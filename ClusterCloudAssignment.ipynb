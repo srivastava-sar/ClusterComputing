{
 "cells": [
  {
   "cell_type": "code",
   "execution_count": 1,
   "metadata": {},
   "outputs": [],
   "source": [
    "# this is a cloud clustering assingment document 1"
   ]
  },
  {
   "cell_type": "code",
   "execution_count": 2,
   "metadata": {},
   "outputs": [],
   "source": [
    "def GridRead(file,item):\n",
    "    with open(file, 'r') as f:\n",
    "        objGrid = ijson.items(f, item)\n",
    "        colGrid = list(objGrid)\n",
    "    return colGrid"
   ]
  },
  {
   "cell_type": "code",
   "execution_count": 3,
   "metadata": {},
   "outputs": [],
   "source": [
    "def getGridDF(gridObj):\n",
    "    grid_df = pd.DataFrame(columns=['id','xmin','xmax','ymin','ymax'],dtype='float')\n",
    "    for row in gridObj:\n",
    "        id = row[\"properties\"]['id']\n",
    "        xmin = row[\"properties\"]['xmin']\n",
    "        xmax = row[\"properties\"]['xmax']\n",
    "        ymin = row[\"properties\"]['ymin']\n",
    "        ymax = row[\"properties\"]['ymax']\n",
    "        row_df = pd.DataFrame([[id,xmin,xmax,ymin,ymax]],columns=['id','xmin','xmax','ymin','ymax'],dtype='float')\n",
    "        grid_df = grid_df.append(row_df,ignore_index=True, sort=False)\n",
    "    return grid_df"
   ]
  },
  {
   "cell_type": "code",
   "execution_count": 4,
   "metadata": {},
   "outputs": [],
   "source": [
    "def getTweetDF(tweetObj):\n",
    "    tweet_df = pd.DataFrame(columns=['id','x','y','hashlist'])\n",
    "    for row in tweetObj:\n",
    "        id = row[\"id\"]\n",
    "        coord0 = row[\"value\"]['geometry']['coordinates'][0]\n",
    "        coord1 = row[\"value\"]['geometry']['coordinates'][1]\n",
    "        hashtags = row['doc']['entities']['hashtags']\n",
    "        hashlist = []\n",
    "        for hashtg in hashtags:\n",
    "            hashlist.append(hashtg['text'])\n",
    "        row_df = pd.DataFrame([[id,coord0,coord1,hashlist]],columns=['id','x','y','hashlist'],dtype='float')\n",
    "        row_df = row_df.dropna(axis=0)\n",
    "        tweet_df = tweet_df.append(row_df,ignore_index=True,sort=False)\n",
    "    return tweet_df"
   ]
  },
  {
   "cell_type": "code",
   "execution_count": 5,
   "metadata": {},
   "outputs": [],
   "source": [
    "def locateBlock(x,y): \n",
    "    c = grid_df[(x >= grid_df['xmin']) &\n",
    "            (x < grid_df['xmax']) &\n",
    "            (y >= grid_df['ymin']) &\n",
    "            (y < grid_df['ymax'])].id\n",
    "\n",
    "    if len(c) == 0:\n",
    "        return None\n",
    "    else:\n",
    "        return c.iat[0]"
   ]
  },
  {
   "cell_type": "code",
   "execution_count": 6,
   "metadata": {},
   "outputs": [],
   "source": [
    "def locateBlock2(dpf): \n",
    "    c = grid_df[(dpf['x'] >= grid_df['xmin']) &\n",
    "            (dpf['x'] < grid_df['xmax']) &\n",
    "            (dpf['y'] >= grid_df['ymin']) &\n",
    "            (dpf['y'] < grid_df['ymax'])].id\n",
    "\n",
    "    if len(c) == 0:\n",
    "        return None\n",
    "    else:\n",
    "        return c.iat[0]"
   ]
  },
  {
   "cell_type": "code",
   "execution_count": 7,
   "metadata": {},
   "outputs": [],
   "source": [
    "import ijson\n",
    "import pandas as pd\n",
    "import numpy as np\n",
    "import datetime\n",
    "import multiprocessing as mp\n",
    "fileGrid = \"data/melbGrid.json\"\n",
    "readGrid = GridRead(fileGrid,'features.item')\n",
    "grid_df = getGridDF(readGrid)\n",
    "#print(grid_df)"
   ]
  },
  {
   "cell_type": "code",
   "execution_count": 8,
   "metadata": {},
   "outputs": [
    {
     "name": "stdout",
     "output_type": "stream",
     "text": [
      "             id           x          y     hashlist\n",
      "0  5.703792e+17  144.923401 -37.959358  [melbourne]\n",
      "1  5.703792e+17  144.923401 -37.959358  [melbourne]\n",
      "2  5.703814e+17  144.923401 -37.959358  [melbourne]\n",
      "3  5.703814e+17  144.923401 -37.959358  [melbourne]\n"
     ]
    }
   ],
   "source": [
    "fileTwitter = \"data/smallTwitter.json\"\n",
    "rowTwit = GridRead(fileTwitter,'rows.item')\n",
    "tweet_df = getTweetDF(rowTwit)\n",
    "print(tweet_df.head(4))"
   ]
  },
  {
   "cell_type": "code",
   "execution_count": 9,
   "metadata": {},
   "outputs": [],
   "source": [
    "#filter records with no coordinate information\n",
    "#print(tweet_df.head(10))"
   ]
  },
  {
   "cell_type": "code",
   "execution_count": 10,
   "metadata": {},
   "outputs": [],
   "source": [
    "# def parallelise(dataframe, func):\n",
    "#     df_split = pd.DataFrame(np.array_split(dataframe, partitions))\n",
    "#     pool = mp.Pool(cores)\n",
    "#     df_return = pd.concat(pool.map(func,df_split),ignore_index=True)\n",
    "#     pool.close()\n",
    "#     return df_return"
   ]
  },
  {
   "cell_type": "code",
   "execution_count": 11,
   "metadata": {
    "scrolled": true
   },
   "outputs": [
    {
     "name": "stdout",
     "output_type": "stream",
     "text": [
      "Time: Parallel execution of locate block =  0:00:03.084119\n",
      "             id           x          y     hashlist GridCode\n",
      "0  5.703792e+17  144.923401 -37.959358  [melbourne]     None\n",
      "1  5.703792e+17  144.923401 -37.959358  [melbourne]     None\n",
      "2  5.703814e+17  144.923401 -37.959358  [melbourne]     None\n",
      "3  5.703814e+17  144.923401 -37.959358  [melbourne]     None\n",
      "4  5.703814e+17  144.923401 -37.959358  [melbourne]     None\n"
     ]
    }
   ],
   "source": [
    "import os\n",
    "import concurrent.futures\n",
    "\n",
    "num_processes = mp.cpu_count()\n",
    "\n",
    "\n",
    "# Process the rows in chunks in parallel\n",
    "time1 = datetime.datetime.now()\n",
    "with concurrent.futures.ProcessPoolExecutor(num_processes) as pool:\n",
    "    tweet_df['GridCode'] = list(pool.map(locateBlock, tweet_df['x'],tweet_df['y'], chunksize=10)) # With a progressbar\n",
    "\n",
    "time2 = datetime.datetime.now()\n",
    "print(\"Time: Parallel execution of locate block = \",(time2-time1))\n",
    "print(tweet_df.head(5))\n"
   ]
  },
  {
   "cell_type": "code",
   "execution_count": 12,
   "metadata": {},
   "outputs": [
    {
     "name": "stdout",
     "output_type": "stream",
     "text": [
      "Time: Series execution of locate block 0:00:14.715046\n",
      "C2    3487\n",
      "C3    3227\n",
      "D3     281\n",
      "Name: GridCode, dtype: int64\n"
     ]
    }
   ],
   "source": [
    "time5 = datetime.datetime.now()\n",
    "tweet_df['GridCode'] = tweet_df.apply(locateBlock2,axis=1)\n",
    "time6 = datetime.datetime.now()\n",
    "print(\"Time: Series execution of locate block\", (time6-time5))\n",
    "print(tweet_df.GridCode.value_counts())\n",
    "#tweet_df.groupby(['GridCode']).size().sort_values(ascending=False)\n"
   ]
  },
  {
   "cell_type": "code",
   "execution_count": 13,
   "metadata": {},
   "outputs": [],
   "source": [
    "#proc_tweet_df = tweet_df.hashlist.apply(pd.Series).merge(tweet_df, left_index = True, right_index = True).drop([\"hashlist\"], axis = 1).melt(id_vars = ['id', 'x', 'y', 'GridCode'], value_name = \"hashtag\").drop(\"variable\", axis = 1) .dropna()\n",
    "#print(proc_tweet_df.head())"
   ]
  },
  {
   "cell_type": "code",
   "execution_count": 14,
   "metadata": {},
   "outputs": [],
   "source": [
    "def explodeDF(tweet_df):\n",
    "    result = tweet_df.set_index(['id', 'x','y','GridCode']).hashlist.apply(pd.Series).stack().reset_index(name = 'hashtag').drop('level_4', axis = 1)\n",
    "    return(result)\n"
   ]
  },
  {
   "cell_type": "code",
   "execution_count": 15,
   "metadata": {},
   "outputs": [],
   "source": [
    "def parallelize_dataframe(df, func):\n",
    "    df_split = np.array_split(df, num_processes)\n",
    "    pool = Pool(num_processes)\n",
    "    print(\"here\")\n",
    "    #print(pool.map(func, df_split))\n",
    "    df = pd.concat(pool.map(func, df_split))\n",
    "    pool.close()\n",
    "    pool.join()\n",
    "    return df"
   ]
  },
  {
   "cell_type": "code",
   "execution_count": 16,
   "metadata": {
    "scrolled": true
   },
   "outputs": [
    {
     "name": "stdout",
     "output_type": "stream",
     "text": [
      "here\n",
      "Time: Parallel execution of explode 0:00:00.793434\n"
     ]
    },
    {
     "data": {
      "text/html": [
       "<div>\n",
       "<style scoped>\n",
       "    .dataframe tbody tr th:only-of-type {\n",
       "        vertical-align: middle;\n",
       "    }\n",
       "\n",
       "    .dataframe tbody tr th {\n",
       "        vertical-align: top;\n",
       "    }\n",
       "\n",
       "    .dataframe thead th {\n",
       "        text-align: right;\n",
       "    }\n",
       "</style>\n",
       "<table border=\"1\" class=\"dataframe\">\n",
       "  <thead>\n",
       "    <tr style=\"text-align: right;\">\n",
       "      <th></th>\n",
       "      <th>GridCode</th>\n",
       "      <th>hashtag</th>\n",
       "      <th>0</th>\n",
       "    </tr>\n",
       "  </thead>\n",
       "  <tbody>\n",
       "    <tr>\n",
       "      <th>0</th>\n",
       "      <td>C2</td>\n",
       "      <td>melbourne</td>\n",
       "      <td>215</td>\n",
       "    </tr>\n",
       "    <tr>\n",
       "      <th>1</th>\n",
       "      <td>C2</td>\n",
       "      <td>beach</td>\n",
       "      <td>116</td>\n",
       "    </tr>\n",
       "    <tr>\n",
       "      <th>2</th>\n",
       "      <td>C2</td>\n",
       "      <td>brightonbeach</td>\n",
       "      <td>110</td>\n",
       "    </tr>\n",
       "    <tr>\n",
       "      <th>3</th>\n",
       "      <td>C2</td>\n",
       "      <td>Melbourne</td>\n",
       "      <td>92</td>\n",
       "    </tr>\n",
       "    <tr>\n",
       "      <th>4</th>\n",
       "      <td>C2</td>\n",
       "      <td>australia</td>\n",
       "      <td>85</td>\n",
       "    </tr>\n",
       "    <tr>\n",
       "      <th>5</th>\n",
       "      <td>C3</td>\n",
       "      <td>melbourne</td>\n",
       "      <td>72</td>\n",
       "    </tr>\n",
       "    <tr>\n",
       "      <th>6</th>\n",
       "      <td>C3</td>\n",
       "      <td>brightonbeach</td>\n",
       "      <td>39</td>\n",
       "    </tr>\n",
       "    <tr>\n",
       "      <th>7</th>\n",
       "      <td>C3</td>\n",
       "      <td>brighton</td>\n",
       "      <td>38</td>\n",
       "    </tr>\n",
       "    <tr>\n",
       "      <th>8</th>\n",
       "      <td>C3</td>\n",
       "      <td>Melbourne</td>\n",
       "      <td>27</td>\n",
       "    </tr>\n",
       "    <tr>\n",
       "      <th>9</th>\n",
       "      <td>C3</td>\n",
       "      <td>beach</td>\n",
       "      <td>20</td>\n",
       "    </tr>\n",
       "    <tr>\n",
       "      <th>10</th>\n",
       "      <td>D3</td>\n",
       "      <td>beach</td>\n",
       "      <td>17</td>\n",
       "    </tr>\n",
       "    <tr>\n",
       "      <th>11</th>\n",
       "      <td>D3</td>\n",
       "      <td>melbourne</td>\n",
       "      <td>13</td>\n",
       "    </tr>\n",
       "    <tr>\n",
       "      <th>12</th>\n",
       "      <td>D3</td>\n",
       "      <td>summer</td>\n",
       "      <td>11</td>\n",
       "    </tr>\n",
       "    <tr>\n",
       "      <th>13</th>\n",
       "      <td>D3</td>\n",
       "      <td>victraffic</td>\n",
       "      <td>7</td>\n",
       "    </tr>\n",
       "    <tr>\n",
       "      <th>14</th>\n",
       "      <td>D3</td>\n",
       "      <td>australia</td>\n",
       "      <td>6</td>\n",
       "    </tr>\n",
       "  </tbody>\n",
       "</table>\n",
       "</div>"
      ],
      "text/plain": [
       "   GridCode        hashtag    0\n",
       "0        C2      melbourne  215\n",
       "1        C2          beach  116\n",
       "2        C2  brightonbeach  110\n",
       "3        C2      Melbourne   92\n",
       "4        C2      australia   85\n",
       "5        C3      melbourne   72\n",
       "6        C3  brightonbeach   39\n",
       "7        C3       brighton   38\n",
       "8        C3      Melbourne   27\n",
       "9        C3          beach   20\n",
       "10       D3          beach   17\n",
       "11       D3      melbourne   13\n",
       "12       D3         summer   11\n",
       "13       D3     victraffic    7\n",
       "14       D3      australia    6"
      ]
     },
     "execution_count": 16,
     "metadata": {},
     "output_type": "execute_result"
    }
   ],
   "source": [
    "from multiprocessing import Pool\n",
    "time3 = datetime.datetime.now()\n",
    "proc_tweet_df = parallelize_dataframe(tweet_df, explodeDF)\n",
    "# with concurrent.futures.ProcessPoolExecutor(num_processes) as pool:\n",
    "#      proc_tweet_df = list(pool.map(explodeDF, tweet_df, chunksize=10)) # With a progressbar\n",
    "\n",
    "time4 = datetime.datetime.now()\n",
    "print(\"Time: Parallel execution of explode\",(time4-time3))\n",
    "proc_tweet_df.groupby(['GridCode','hashtag']).size().sort_values(ascending=False).reset_index().groupby(['GridCode']).head(5).sort_values(['GridCode']).reset_index().drop([\"index\"], axis = 1)\n",
    "\n",
    "#print(proc_tweet_df.head(10))"
   ]
  },
  {
   "cell_type": "code",
   "execution_count": 17,
   "metadata": {},
   "outputs": [
    {
     "name": "stdout",
     "output_type": "stream",
     "text": [
      "Time: Series execution of explode 0:00:01.564529\n"
     ]
    },
    {
     "data": {
      "text/html": [
       "<div>\n",
       "<style scoped>\n",
       "    .dataframe tbody tr th:only-of-type {\n",
       "        vertical-align: middle;\n",
       "    }\n",
       "\n",
       "    .dataframe tbody tr th {\n",
       "        vertical-align: top;\n",
       "    }\n",
       "\n",
       "    .dataframe thead th {\n",
       "        text-align: right;\n",
       "    }\n",
       "</style>\n",
       "<table border=\"1\" class=\"dataframe\">\n",
       "  <thead>\n",
       "    <tr style=\"text-align: right;\">\n",
       "      <th></th>\n",
       "      <th>GridCode</th>\n",
       "      <th>hashtag</th>\n",
       "      <th>0</th>\n",
       "    </tr>\n",
       "  </thead>\n",
       "  <tbody>\n",
       "    <tr>\n",
       "      <th>0</th>\n",
       "      <td>C2</td>\n",
       "      <td>melbourne</td>\n",
       "      <td>215</td>\n",
       "    </tr>\n",
       "    <tr>\n",
       "      <th>1</th>\n",
       "      <td>C2</td>\n",
       "      <td>beach</td>\n",
       "      <td>116</td>\n",
       "    </tr>\n",
       "    <tr>\n",
       "      <th>2</th>\n",
       "      <td>C2</td>\n",
       "      <td>brightonbeach</td>\n",
       "      <td>110</td>\n",
       "    </tr>\n",
       "    <tr>\n",
       "      <th>3</th>\n",
       "      <td>C2</td>\n",
       "      <td>Melbourne</td>\n",
       "      <td>92</td>\n",
       "    </tr>\n",
       "    <tr>\n",
       "      <th>4</th>\n",
       "      <td>C2</td>\n",
       "      <td>australia</td>\n",
       "      <td>85</td>\n",
       "    </tr>\n",
       "    <tr>\n",
       "      <th>5</th>\n",
       "      <td>C3</td>\n",
       "      <td>melbourne</td>\n",
       "      <td>72</td>\n",
       "    </tr>\n",
       "    <tr>\n",
       "      <th>6</th>\n",
       "      <td>C3</td>\n",
       "      <td>brightonbeach</td>\n",
       "      <td>39</td>\n",
       "    </tr>\n",
       "    <tr>\n",
       "      <th>7</th>\n",
       "      <td>C3</td>\n",
       "      <td>brighton</td>\n",
       "      <td>38</td>\n",
       "    </tr>\n",
       "    <tr>\n",
       "      <th>8</th>\n",
       "      <td>C3</td>\n",
       "      <td>Melbourne</td>\n",
       "      <td>27</td>\n",
       "    </tr>\n",
       "    <tr>\n",
       "      <th>9</th>\n",
       "      <td>C3</td>\n",
       "      <td>beach</td>\n",
       "      <td>20</td>\n",
       "    </tr>\n",
       "    <tr>\n",
       "      <th>10</th>\n",
       "      <td>D3</td>\n",
       "      <td>beach</td>\n",
       "      <td>17</td>\n",
       "    </tr>\n",
       "    <tr>\n",
       "      <th>11</th>\n",
       "      <td>D3</td>\n",
       "      <td>melbourne</td>\n",
       "      <td>13</td>\n",
       "    </tr>\n",
       "    <tr>\n",
       "      <th>12</th>\n",
       "      <td>D3</td>\n",
       "      <td>summer</td>\n",
       "      <td>11</td>\n",
       "    </tr>\n",
       "    <tr>\n",
       "      <th>13</th>\n",
       "      <td>D3</td>\n",
       "      <td>victraffic</td>\n",
       "      <td>7</td>\n",
       "    </tr>\n",
       "    <tr>\n",
       "      <th>14</th>\n",
       "      <td>D3</td>\n",
       "      <td>australia</td>\n",
       "      <td>6</td>\n",
       "    </tr>\n",
       "  </tbody>\n",
       "</table>\n",
       "</div>"
      ],
      "text/plain": [
       "   GridCode        hashtag    0\n",
       "0        C2      melbourne  215\n",
       "1        C2          beach  116\n",
       "2        C2  brightonbeach  110\n",
       "3        C2      Melbourne   92\n",
       "4        C2      australia   85\n",
       "5        C3      melbourne   72\n",
       "6        C3  brightonbeach   39\n",
       "7        C3       brighton   38\n",
       "8        C3      Melbourne   27\n",
       "9        C3          beach   20\n",
       "10       D3          beach   17\n",
       "11       D3      melbourne   13\n",
       "12       D3         summer   11\n",
       "13       D3     victraffic    7\n",
       "14       D3      australia    6"
      ]
     },
     "execution_count": 17,
     "metadata": {},
     "output_type": "execute_result"
    }
   ],
   "source": [
    "time7 = datetime.datetime.now()\n",
    "proc_tweet_df2 = tweet_df.hashlist.apply(pd.Series).merge(tweet_df, left_index = True, right_index = True).drop([\"hashlist\"], axis = 1).melt(id_vars = ['id', 'x', 'y', 'GridCode'], value_name = \"hashtag\").drop(\"variable\", axis = 1) .dropna()\n",
    "time8 = datetime.datetime.now()\n",
    "\n",
    "print(\"Time: Series execution of explode\", (time8-time7))\n",
    "proc_tweet_df2.groupby(['GridCode','hashtag']).size().sort_values(ascending=False).reset_index().groupby(['GridCode']).head(5).sort_values(['GridCode']).reset_index().drop([\"index\"], axis = 1)\n"
   ]
  },
  {
   "cell_type": "code",
   "execution_count": null,
   "metadata": {},
   "outputs": [],
   "source": []
  }
 ],
 "metadata": {
  "kernelspec": {
   "display_name": "Python 3",
   "language": "python",
   "name": "python3"
  },
  "language_info": {
   "codemirror_mode": {
    "name": "ipython",
    "version": 3
   },
   "file_extension": ".py",
   "mimetype": "text/x-python",
   "name": "python",
   "nbconvert_exporter": "python",
   "pygments_lexer": "ipython3",
   "version": "3.6.8"
  }
 },
 "nbformat": 4,
 "nbformat_minor": 2
}
