{
 "cells": [
  {
   "cell_type": "code",
   "execution_count": 1,
   "metadata": {},
   "outputs": [],
   "source": [
    "# this is a cloud clustering assingment document 1"
   ]
  },
  {
   "cell_type": "code",
   "execution_count": 2,
   "metadata": {},
   "outputs": [],
   "source": [
    "import ijson\n",
    "import pandas as pd\n",
    "fileGrid = \"data/melbGrid.json\"\n",
    "with open(fileGrid, 'r') as f:\n",
    "    objGrid = ijson.items(f, 'features.item')\n",
    "    colGrid = list(objGrid)\n",
    "\n",
    "grid_df = pd.DataFrame(columns=['id','xmin','xmax','ymin','ymax'],dtype='float')\n",
    "for row in colGrid:\n",
    "    id = row[\"properties\"]['id']\n",
    "    xmin = row[\"properties\"]['xmin']\n",
    "    xmax = row[\"properties\"]['xmax']\n",
    "    ymin = row[\"properties\"]['ymin']\n",
    "    ymax = row[\"properties\"]['ymax']\n",
    "    row_df = pd.DataFrame([[id,xmin,xmax,ymin,ymax]],columns=['id','xmin','xmax','ymin','ymax'],dtype='float')\n",
    "    grid_df = grid_df.append(row_df,ignore_index=True, sort=False)\n",
    "#print(grid_df)"
   ]
  },
  {
   "cell_type": "code",
   "execution_count": 3,
   "metadata": {},
   "outputs": [],
   "source": [
    "fileTwitter = \"data/tinyTwitter.json\"\n",
    "with open(fileTwitter, 'r') as f:\n",
    "    objTwit = ijson.items(f, 'rows.item')\n",
    "    rowTwit = list(objTwit)\n",
    "\n",
    "tweet_df = pd.DataFrame(columns=['id','x','y','GridCode','hashlist'])\n",
    "for row in rowTwit:\n",
    "    id = row[\"id\"]\n",
    "    coord0 = row[\"value\"]['geometry']['coordinates'][0]\n",
    "    coord1 = row[\"value\"]['geometry']['coordinates'][1]\n",
    "    hashtags = row['doc']['entities']['hashtags']\n",
    "    hashlist = []\n",
    "    for hashtg in hashtags:\n",
    "        hashlist.append(hashtg['text'])\n",
    "    row_df = pd.DataFrame([[id,coord0,coord1,hashlist]],columns=['id','x','y','hashlist'],dtype='float')\n",
    "    row_df = row_df.dropna(axis=0)\n",
    "    tweet_df = tweet_df.append(row_df,ignore_index=True,sort=False)"
   ]
  },
  {
   "cell_type": "code",
   "execution_count": 4,
   "metadata": {},
   "outputs": [],
   "source": [
    "def locateBlock(dfp):  \n",
    "    c = grid_df[(dfp['x'] >= grid_df['xmin']) &\n",
    "            (dfp['x'] < grid_df['xmax']) &\n",
    "            (dfp['y'] >= grid_df['ymin']) &\n",
    "            (dfp['y'] < grid_df['ymax'])].id\n",
    "\n",
    "    if len(c) == 0:        \n",
    "        return None\n",
    "    else:        \n",
    "        return c.iat[0]"
   ]
  },
  {
   "cell_type": "code",
   "execution_count": 5,
   "metadata": {},
   "outputs": [],
   "source": [
    "#filter records with no coordinate information\n",
    "#print(tweet_df.head(10))"
   ]
  },
  {
   "cell_type": "code",
   "execution_count": 6,
   "metadata": {},
   "outputs": [
    {
     "data": {
      "text/plain": [
       "GridCode\n",
       "C2    472\n",
       "D3    281\n",
       "C3    242\n",
       "dtype: int64"
      ]
     },
     "execution_count": 6,
     "metadata": {},
     "output_type": "execute_result"
    }
   ],
   "source": [
    "tweet_df['GridCode'] = tweet_df.apply(locateBlock,axis=1)\n",
    "tweet_df.groupby(['GridCode']).size().sort_values(ascending=False) "
   ]
  },
  {
   "cell_type": "code",
   "execution_count": 7,
   "metadata": {},
   "outputs": [],
   "source": [
    "#print(tweet_obj.loc[tweet_obj.GridCode.notnull()].head(2))"
   ]
  },
  {
   "cell_type": "code",
   "execution_count": 8,
   "metadata": {},
   "outputs": [
    {
     "data": {
      "text/html": [
       "<div>\n",
       "<style scoped>\n",
       "    .dataframe tbody tr th:only-of-type {\n",
       "        vertical-align: middle;\n",
       "    }\n",
       "\n",
       "    .dataframe tbody tr th {\n",
       "        vertical-align: top;\n",
       "    }\n",
       "\n",
       "    .dataframe thead th {\n",
       "        text-align: right;\n",
       "    }\n",
       "</style>\n",
       "<table border=\"1\" class=\"dataframe\">\n",
       "  <thead>\n",
       "    <tr style=\"text-align: right;\">\n",
       "      <th></th>\n",
       "      <th>index</th>\n",
       "      <th>GridCode</th>\n",
       "      <th>hashtags</th>\n",
       "      <th>0</th>\n",
       "    </tr>\n",
       "  </thead>\n",
       "  <tbody>\n",
       "    <tr>\n",
       "      <th>0</th>\n",
       "      <td>0</td>\n",
       "      <td>C2</td>\n",
       "      <td>melbourne</td>\n",
       "      <td>39</td>\n",
       "    </tr>\n",
       "    <tr>\n",
       "      <th>1</th>\n",
       "      <td>1</td>\n",
       "      <td>C2</td>\n",
       "      <td>beach</td>\n",
       "      <td>21</td>\n",
       "    </tr>\n",
       "    <tr>\n",
       "      <th>2</th>\n",
       "      <td>3</td>\n",
       "      <td>C2</td>\n",
       "      <td>Melbourne</td>\n",
       "      <td>15</td>\n",
       "    </tr>\n",
       "    <tr>\n",
       "      <th>3</th>\n",
       "      <td>4</td>\n",
       "      <td>C2</td>\n",
       "      <td>sunset</td>\n",
       "      <td>14</td>\n",
       "    </tr>\n",
       "    <tr>\n",
       "      <th>4</th>\n",
       "      <td>6</td>\n",
       "      <td>C2</td>\n",
       "      <td>brighton</td>\n",
       "      <td>11</td>\n",
       "    </tr>\n",
       "    <tr>\n",
       "      <th>5</th>\n",
       "      <td>12</td>\n",
       "      <td>C3</td>\n",
       "      <td>melbourne</td>\n",
       "      <td>7</td>\n",
       "    </tr>\n",
       "    <tr>\n",
       "      <th>6</th>\n",
       "      <td>21</td>\n",
       "      <td>C3</td>\n",
       "      <td>Melbourne</td>\n",
       "      <td>4</td>\n",
       "    </tr>\n",
       "    <tr>\n",
       "      <th>7</th>\n",
       "      <td>32</td>\n",
       "      <td>C3</td>\n",
       "      <td>sandringham</td>\n",
       "      <td>4</td>\n",
       "    </tr>\n",
       "    <tr>\n",
       "      <th>8</th>\n",
       "      <td>38</td>\n",
       "      <td>C3</td>\n",
       "      <td>winter</td>\n",
       "      <td>3</td>\n",
       "    </tr>\n",
       "    <tr>\n",
       "      <th>9</th>\n",
       "      <td>54</td>\n",
       "      <td>C3</td>\n",
       "      <td>myboy</td>\n",
       "      <td>3</td>\n",
       "    </tr>\n",
       "    <tr>\n",
       "      <th>10</th>\n",
       "      <td>2</td>\n",
       "      <td>D3</td>\n",
       "      <td>beach</td>\n",
       "      <td>17</td>\n",
       "    </tr>\n",
       "    <tr>\n",
       "      <th>11</th>\n",
       "      <td>5</td>\n",
       "      <td>D3</td>\n",
       "      <td>melbourne</td>\n",
       "      <td>13</td>\n",
       "    </tr>\n",
       "    <tr>\n",
       "      <th>12</th>\n",
       "      <td>8</td>\n",
       "      <td>D3</td>\n",
       "      <td>summer</td>\n",
       "      <td>11</td>\n",
       "    </tr>\n",
       "    <tr>\n",
       "      <th>13</th>\n",
       "      <td>11</td>\n",
       "      <td>D3</td>\n",
       "      <td>victraffic</td>\n",
       "      <td>7</td>\n",
       "    </tr>\n",
       "    <tr>\n",
       "      <th>14</th>\n",
       "      <td>13</td>\n",
       "      <td>D3</td>\n",
       "      <td>australia</td>\n",
       "      <td>6</td>\n",
       "    </tr>\n",
       "  </tbody>\n",
       "</table>\n",
       "</div>"
      ],
      "text/plain": [
       "    index GridCode     hashtags   0\n",
       "0       0       C2    melbourne  39\n",
       "1       1       C2        beach  21\n",
       "2       3       C2    Melbourne  15\n",
       "3       4       C2       sunset  14\n",
       "4       6       C2     brighton  11\n",
       "5      12       C3    melbourne   7\n",
       "6      21       C3    Melbourne   4\n",
       "7      32       C3  sandringham   4\n",
       "8      38       C3       winter   3\n",
       "9      54       C3        myboy   3\n",
       "10      2       D3        beach  17\n",
       "11      5       D3    melbourne  13\n",
       "12      8       D3       summer  11\n",
       "13     11       D3   victraffic   7\n",
       "14     13       D3    australia   6"
      ]
     },
     "execution_count": 8,
     "metadata": {},
     "output_type": "execute_result"
    }
   ],
   "source": [
    "proc_tweet_df = tweet_df.hashlist.apply(pd.Series).merge(tweet_df, left_index = True, right_index = True).drop([\"hashlist\"], axis = 1).melt(id_vars = ['id', 'x', 'y', 'GridCode'], value_name = \"hashtags\").drop(\"variable\", axis = 1) .dropna()\n",
    "proc_tweet_df.groupby(['GridCode','hashtags']).size().sort_values(ascending=False).reset_index().groupby(['GridCode']).head(5).sort_values(['GridCode']).reset_index()\n"
   ]
  },
  {
   "cell_type": "code",
   "execution_count": null,
   "metadata": {},
   "outputs": [],
   "source": []
  }
 ],
 "metadata": {
  "kernelspec": {
   "display_name": "Python 3",
   "language": "python",
   "name": "python3"
  },
  "language_info": {
   "codemirror_mode": {
    "name": "ipython",
    "version": 3
   },
   "file_extension": ".py",
   "mimetype": "text/x-python",
   "name": "python",
   "nbconvert_exporter": "python",
   "pygments_lexer": "ipython3",
   "version": "3.7.1"
  }
 },
 "nbformat": 4,
 "nbformat_minor": 2
}
