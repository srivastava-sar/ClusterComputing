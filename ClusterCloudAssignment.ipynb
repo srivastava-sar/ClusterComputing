{
 "cells": [
  {
   "cell_type": "code",
   "execution_count": 256,
   "metadata": {},
   "outputs": [],
   "source": [
    "# this is a cloud clustering assingment document 1"
   ]
  },
  {
   "cell_type": "code",
   "execution_count": 257,
   "metadata": {},
   "outputs": [],
   "source": [
    "import ijson\n",
    "fileGrid = \"data/melbGrid.json\"\n",
    "with open(fileGrid, 'r') as f:\n",
    "    objGrid = ijson.items(f, 'features.item')\n",
    "    colGrid = list(objGrid)\n",
    "\n",
    "grid_dataframe = pd.DataFrame(columns=['id','xmin','xmax','ymin','ymax','count'])\n",
    "for row in colGrid:\n",
    "    id = row[\"properties\"]['id']\n",
    "    xmin = row[\"properties\"]['xmin']\n",
    "    xmax = row[\"properties\"]['xmax']\n",
    "    ymin = row[\"properties\"]['ymin']\n",
    "    ymax = row[\"properties\"]['ymax']\n",
    "    df = pd.DataFrame([[id,xmin,xmax,ymin,ymax]],columns=['id','xmin','xmax','ymin','ymax'])\n",
    "    grid_dataframe = grid_dataframe.append(df,ignore_index=True)\n",
    "    \n",
    "xmin_g = grid_dataframe['xmin'].min()\n",
    "xmax_g = grid_dataframe['xmax'].max()\n",
    "ymin_g = grid_dataframe['ymin'].min()\n",
    "ymax_g = grid_dataframe['ymax'].max()\n",
    "#print(grid_dataframe)"
   ]
  },
  {
   "cell_type": "code",
   "execution_count": 261,
   "metadata": {},
   "outputs": [],
   "source": [
    "import pandas as pd\n",
    "fileTwitter = \"data/tinyTwitter.json\"\n",
    "with open(fileTwitter, 'r') as f:\n",
    "    objGrid = ijson.items(f, 'rows.item')\n",
    "    colGrid = list(objGrid)\n",
    "\n",
    "tweet_obj = pd.DataFrame(columns=['id','x','y'])\n",
    "for row in colGrid:\n",
    "    id = row[\"id\"]\n",
    "    coord0 = row[\"value\"]['geometry']['coordinates'][0]\n",
    "    coord1 = row[\"value\"]['geometry']['coordinates'][1]\n",
    "    df = pd.DataFrame([[id,coord0,coord1]],columns=['id','x','y'])\n",
    "    tweet_obj = tweet_obj.append(df,ignore_index=True)\n",
    "#print(tweet_obj.head())"
   ]
  },
  {
   "cell_type": "code",
   "execution_count": 263,
   "metadata": {},
   "outputs": [
    {
     "name": "stdout",
     "output_type": "stream",
     "text": [
      "                   id             x             y\n",
      "0  570379215192727552  144.92340088  -37.95935781\n",
      "1  570379220146200576  144.92340088  -37.95935781\n",
      "2  570381370976915456  144.92340088  -37.95935781\n",
      "3  570381387263401984  144.92340088  -37.95935781\n",
      "4  570381444800868352  144.92340088  -37.95935781\n"
     ]
    }
   ],
   "source": [
    "#filter records with no coordinate information\n",
    "tweet_obj = tweet_obj.dropna(axis=0)\n",
    "print(tweet_obj.head())"
   ]
  },
  {
   "cell_type": "code",
   "execution_count": null,
   "metadata": {},
   "outputs": [],
   "source": []
  }
 ],
 "metadata": {
  "kernelspec": {
   "display_name": "Python 3",
   "language": "python",
   "name": "python3"
  },
  "language_info": {
   "codemirror_mode": {
    "name": "ipython",
    "version": 3
   },
   "file_extension": ".py",
   "mimetype": "text/x-python",
   "name": "python",
   "nbconvert_exporter": "python",
   "pygments_lexer": "ipython3",
   "version": "3.7.1"
  }
 },
 "nbformat": 4,
 "nbformat_minor": 2
}
